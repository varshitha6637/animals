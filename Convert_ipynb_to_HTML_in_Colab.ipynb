{
  "nbformat": 4,
  "nbformat_minor": 0,
  "metadata": {
    "colab": {
      "name": "Convert ipynb to HTML in Colab.ipynb",
      "provenance": []
    },
    "kernelspec": {
      "name": "python3",
      "display_name": "Python 3"
    },
    "language_info": {
      "name": "python"
    }
  },
  "cells": [
    {
      "cell_type": "markdown",
      "source": [
        "**Instruction**:    \n",
        "1. Download the ipynb, which you want to convert, on your local computer.    \n",
        "2. Run the code below to upload the ipynb.  \n",
        "3. The html version will be downloaded automatically on your local machine.\n",
        "\n",
        "Enjoy it!"
      ],
      "metadata": {
        "id": "OOUwSOZ4AqyT"
      }
    },
    {
      "cell_type": "code",
      "source": [],
      "metadata": {
        "id": "P_uT4Z1aheIA"
      },
      "execution_count": null,
      "outputs": []
    },
    {
      "cell_type": "code",
      "source": [],
      "metadata": {
        "id": "ugOKB0zThjDB"
      },
      "execution_count": null,
      "outputs": []
    }
  ]
}